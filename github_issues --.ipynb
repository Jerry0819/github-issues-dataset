{
 "cells": [
  {
   "cell_type": "code",
   "execution_count": null,
   "id": "b3fd37fa-a00f-4218-b2b6-e192cdc8ca59",
   "metadata": {},
   "outputs": [],
   "source": [
    "import requests\n",
    "url = 'https://api.github.com/repos/huggingface/datasets/issues?page=1&per_page=1'\n",
    "response = requests.get(url=url)"
   ]
  },
  {
   "cell_type": "code",
   "execution_count": null,
   "id": "44b80806-0682-4c04-80ab-21b455860747",
   "metadata": {},
   "outputs": [],
   "source": [
    "response.json()"
   ]
  },
  {
   "cell_type": "code",
   "execution_count": null,
   "id": "320b8bd3-3f57-44cc-bbfb-5951320bba3e",
   "metadata": {},
   "outputs": [],
   "source": [
    "github_token = 'xxxxxxxxxxxxxxxxxxxxxxx'\n",
    "headers = {'Authorization':f'token {github_token}'}"
   ]
  },
  {
   "cell_type": "code",
   "execution_count": null,
   "id": "b5a0b8c6-e648-4c52-8e2c-36e648b7f01b",
   "metadata": {},
   "outputs": [],
   "source": [
    "import time\n",
    "import math\n",
    "from pathlib import Path\n",
    "import pandas as pd\n",
    "from tqdm.notebook import tqdm\n",
    "\n",
    "\n",
    "def fetch_issues(\n",
    "    owner=\"huggingface\",\n",
    "    repo=\"datasets\",\n",
    "    num_issues=10_000,\n",
    "    rate_limit=5_000,\n",
    "    issues_path=Path(\".\"),\n",
    "):\n",
    "    if not issues_path.is_dir():\n",
    "        issues_path.mkdir(exist_ok=True)\n",
    "\n",
    "    batch = []\n",
    "    all_issues = []\n",
    "    per_page = 100  # Number of issues to return per page\n",
    "    num_pages = math.ceil(num_issues / per_page)\n",
    "    base_url = \"https://api.github.com/repos\"\n",
    "\n",
    "    for page in tqdm(range(num_pages)):\n",
    "        # Query with state=all to get both open and closed issues\n",
    "        query = f\"issues?page={page}&per_page={per_page}&state=all\"\n",
    "        issues = requests.get(f\"{base_url}/{owner}/{repo}/{query}\", headers=headers)\n",
    "        batch.extend(issues.json())\n",
    "\n",
    "        if len(batch) > rate_limit and len(all_issues) < num_issues:\n",
    "            all_issues.extend(batch)\n",
    "            batch = []  # Flush batch for next time period\n",
    "            print(f\"Reached GitHub rate limit. Sleeping for one hour ...\")\n",
    "            time.sleep(60 * 60 + 1)\n",
    "\n",
    "    all_issues.extend(batch)\n",
    "    df = pd.DataFrame.from_records(all_issues)\n",
    "    df.to_json(f\"{issues_path}/{repo}-issues.jsonl\", orient=\"records\", lines=True)\n",
    "    print(\n",
    "        f\"Downloaded all the issues for {repo}! Dataset stored at {issues_path}/{repo}-issues.jsonl\"\n",
    "    )"
   ]
  },
  {
   "cell_type": "code",
   "execution_count": null,
   "id": "7af525be-fb52-4d63-88b7-324d01ae3e28",
   "metadata": {
    "scrolled": true
   },
   "outputs": [],
   "source": [
    "fetch_issues()"
   ]
  },
  {
   "cell_type": "code",
   "execution_count": null,
   "id": "d082bfdd-940d-4421-89f3-434b1ae39fc2",
   "metadata": {},
   "outputs": [],
   "source": [
    "import json\n",
    "output_keys = ['url',  'id', 'number', 'title', 'user', 'labels', 'state', 'comments', 'closed_at', 'pull_request', 'body','html_url']\n",
    "with open('datasets-issues.jsonl','r',encoding='utf-8') as fin,\\\n",
    "     open('github-issues-no-timestamp.jsonl','w',encoding='utf-8') as fout:\n",
    "    for line in fin:\n",
    "        record = json.loads(line.strip())\n",
    "        l = list(set(record.keys()) - set(output_keys))\n",
    "        for field in l:\n",
    "            record.pop(field,None)\n",
    "        fout.write(json.dumps(record)+'\\n')    "
   ]
  },
  {
   "cell_type": "code",
   "execution_count": null,
   "id": "30c1a916-1954-4869-b2e6-388cd88f82c1",
   "metadata": {},
   "outputs": [],
   "source": [
    "with open('github-issues-no-timestamp.jsonl','r',encoding='utf-8') as f:\n",
    "    for i,line in enumerate(f):\n",
    "        if i >= 1:\n",
    "            break\n",
    "        record = json.loads(line.strip())\n",
    "        print(record)"
   ]
  },
  {
   "cell_type": "code",
   "execution_count": null,
   "id": "dd9260f8-370b-4c9c-a2cd-daf3b76b843e",
   "metadata": {},
   "outputs": [],
   "source": [
    "from datasets import load_dataset\n",
    "issues_dataset = load_dataset('json',data_files=\"github-issues-no-timestamp.jsonl\",split='train')"
   ]
  },
  {
   "cell_type": "code",
   "execution_count": null,
   "id": "2da86e8c-a7df-4c73-8b78-e1ea43c3752b",
   "metadata": {},
   "outputs": [],
   "source": [
    "sample = issues_dataset.shuffle(seed=42).select(range(3))\n",
    "for item1,item2 in zip(sample['html_url'],sample['pull_request']):\n",
    "    print(f'>> url:{item1}')\n",
    "    print(f'>> pull_request:{item2}\\n')"
   ]
  },
  {
   "cell_type": "code",
   "execution_count": null,
   "id": "323f01c0-c2d9-4d7b-849b-6188d0594e68",
   "metadata": {},
   "outputs": [],
   "source": [
    "issues_dataset = issues_dataset.map(lambda x:{'is_pull_request':False if x['pull_request'] is None else True})"
   ]
  },
  {
   "cell_type": "code",
   "execution_count": null,
   "id": "69aa17bd-c1e9-463d-99ca-ddf188f3c710",
   "metadata": {},
   "outputs": [],
   "source": [
    "import time\n",
    "def get_comments(issue_number):\n",
    "    url = f'https://api.github.com/repos/huggingface/datasets/issues/{issue_number}/comments'\n",
    "    response = requests.get(url=url,headers=headers)\n",
    "    time.sleep(1)  # 每次请求后暂停1秒\n",
    "    return [r['body'] for r in response.json()]"
   ]
  },
  {
   "cell_type": "code",
   "execution_count": null,
   "id": "66a929b0-4d8a-440e-b75c-cb90c78fcf81",
   "metadata": {},
   "outputs": [],
   "source": [
    "issues_dataset_with_comments = issues_dataset.map(lambda x:{'comments':get_comments(x['number'])})"
   ]
  }
 ],
 "metadata": {
  "kernelspec": {
   "display_name": "Python 3 (ipykernel)",
   "language": "python",
   "name": "python3"
  },
  "language_info": {
   "codemirror_mode": {
    "name": "ipython",
    "version": 3
   },
   "file_extension": ".py",
   "mimetype": "text/x-python",
   "name": "python",
   "nbconvert_exporter": "python",
   "pygments_lexer": "ipython3",
   "version": "3.12.8"
  }
 },
 "nbformat": 4,
 "nbformat_minor": 5
}
